{
 "cells": [
  {
   "cell_type": "markdown",
   "id": "18f897cd-eb1f-44e2-a15a-2f61736feb79",
   "metadata": {},
   "source": [
    "# Data Science Tools and Ecosystem"
   ]
  },
  {
   "cell_type": "markdown",
   "id": "a438194e-15ca-4dc1-a142-1ab10503411b",
   "metadata": {},
   "source": [
    "In this Notebook, Data Science Tools and Ecosystem are summerized."
   ]
  },
  {
   "cell_type": "markdown",
   "id": "5f76393b-c3ad-4e01-b98e-8c91da1b47d7",
   "metadata": {},
   "source": [
    "Some of the popular languages that Data Scientists use are:\n",
    "1. Python\n",
    "2. SQL\n",
    "3. R."
   ]
  },
  {
   "cell_type": "markdown",
   "id": "1cf52e55-3354-46bd-8e2c-e2cad3b76bc4",
   "metadata": {},
   "source": [
    "Ojectives:\n",
    "* Create a markdown cell with a table of Data Science Tools\n",
    "* Create a markdown cell to list data science libraries\n",
    "* Create a markdown cell for an introduction"
   ]
  },
  {
   "cell_type": "markdown",
   "id": "562de696-7c6a-4787-b84d-bf7ce4240b97",
   "metadata": {},
   "source": [
    "Some of the commonly used libraries used by Data scientists include:\n",
    "1. NumPy\n",
    "2. Matplotib\n",
    "3. Scikit-learn"
   ]
  },
  {
   "cell_type": "markdown",
   "id": "b6fa4f67-232f-4d4c-8c39-e2358c9ab712",
   "metadata": {},
   "source": [
    "| Data Science Tools |\n",
    "|--------------------|\n",
    "|Jupyter |\n",
    "|Rstudio |\n",
    "|Spyder |"
   ]
  },
  {
   "cell_type": "markdown",
   "id": "77110f52-12c4-43bb-8638-23c61420cc23",
   "metadata": {},
   "source": [
    "### Below are a few examples of evaluating arithmetic expressions in Python"
   ]
  },
  {
   "cell_type": "code",
   "execution_count": 14,
   "id": "2a83ec60-678a-43ea-8ab1-173655c15384",
   "metadata": {},
   "outputs": [
    {
     "data": {
      "text/plain": [
       "17"
      ]
     },
     "execution_count": 14,
     "metadata": {},
     "output_type": "execute_result"
    }
   ],
   "source": [
    "# this is a simple arithmetc expression to multiply then add integers\n",
    "(3*4)+5"
   ]
  },
  {
   "cell_type": "code",
   "execution_count": 16,
   "id": "c0877629-7298-486f-8822-9636fdd28b58",
   "metadata": {},
   "outputs": [
    {
     "data": {
      "text/plain": [
       "3.3333333333333335"
      ]
     },
     "execution_count": 16,
     "metadata": {},
     "output_type": "execute_result"
    }
   ],
   "source": [
    "# This will convert 200 minutes to hours by dividing by 60\n",
    "(200/60)"
   ]
  },
  {
   "cell_type": "markdown",
   "id": "a7a7ffd6-da1f-4b65-b326-b13d1d86ec9c",
   "metadata": {},
   "source": [
    "## Author\n",
    "Noluthando "
   ]
  },
  {
   "cell_type": "code",
   "execution_count": null,
   "id": "76c18b02-541c-47af-922e-2f1aa5e6303b",
   "metadata": {},
   "outputs": [],
   "source": []
  }
 ],
 "metadata": {
  "kernelspec": {
   "display_name": "Python 3 (ipykernel)",
   "language": "python",
   "name": "python3"
  },
  "language_info": {
   "codemirror_mode": {
    "name": "ipython",
    "version": 3
   },
   "file_extension": ".py",
   "mimetype": "text/x-python",
   "name": "python",
   "nbconvert_exporter": "python",
   "pygments_lexer": "ipython3",
   "version": "3.12.4"
  }
 },
 "nbformat": 4,
 "nbformat_minor": 5
}
